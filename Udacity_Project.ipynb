{
  "nbformat": 4,
  "nbformat_minor": 0,
  "metadata": {
    "colab": {
      "name": "Udacity_Project.ipynb",
      "provenance": [],
      "authorship_tag": "ABX9TyNVR7osuJPnWlkUpW5uJ8TV",
      "include_colab_link": true
    },
    "kernelspec": {
      "name": "python3",
      "display_name": "Python 3"
    },
    "language_info": {
      "name": "python"
    }
  },
  "cells": [
    {
      "cell_type": "markdown",
      "metadata": {
        "id": "view-in-github",
        "colab_type": "text"
      },
      "source": [
        "<a href=\"https://colab.research.google.com/github/Ayanlola2002/Udacity_Data_Eng_Pro/blob/main/Udacity_Project.ipynb\" target=\"_parent\"><img src=\"https://colab.research.google.com/assets/colab-badge.svg\" alt=\"Open In Colab\"/></a>"
      ]
    },
    {
      "cell_type": "code",
      "metadata": {
        "colab": {
          "base_uri": "https://localhost:8080/"
        },
        "id": "1m3L1bhz-F1y",
        "outputId": "61b7ebc8-2626-41be-ad2a-725193e2d66e"
      },
      "source": [
        "from google.colab import drive\n",
        "drive.mount('/content/gdrive/')"
      ],
      "execution_count": 1,
      "outputs": [
        {
          "output_type": "stream",
          "text": [
            "Mounted at /content/gdrive/\n"
          ],
          "name": "stdout"
        }
      ]
    },
    {
      "cell_type": "code",
      "metadata": {
        "id": "Mor60P6B_dii"
      },
      "source": [
        "!unzip -uq \"/content/gdrive/MyDrive/Udacity/project-template(Postgre).zip\" -d \"/content/gdrive/MyDrive/Udacity/PROJECT_TEMPLATE(POSTGRE)\""
      ],
      "execution_count": 2,
      "outputs": []
    },
    {
      "cell_type": "code",
      "metadata": {
        "id": "dEO_TC1B-UVJ"
      },
      "source": [
        "import sys\n",
        "import os\n",
        "\n",
        "py_file_location = \"/content/gdrive/MyDrive/Udacity/PROJECT_TEMPLATE(POSTGRE)\"\n",
        "sys.path.append(os.path.abspath(py_file_location))"
      ],
      "execution_count": 3,
      "outputs": []
    },
    {
      "cell_type": "code",
      "metadata": {
        "colab": {
          "base_uri": "https://localhost:8080/"
        },
        "id": "snF3JdzwBPuV",
        "outputId": "ced37d16-af34-4f41-9b52-f113f913678d"
      },
      "source": [
        "import create_tables"
      ],
      "execution_count": 4,
      "outputs": [
        {
          "output_type": "stream",
          "text": [
            "/usr/local/lib/python3.7/dist-packages/psycopg2/__init__.py:144: UserWarning: The psycopg2 wheel package will be renamed from release 2.8; in order to keep installing from binary please use \"pip install psycopg2-binary\" instead. For details see: <http://initd.org/psycopg/docs/install.html#binary-install-from-pypi>.\n",
            "  \"\"\")\n"
          ],
          "name": "stderr"
        }
      ]
    }
  ]
}